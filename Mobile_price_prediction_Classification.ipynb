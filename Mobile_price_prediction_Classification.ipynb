{
  "nbformat": 4,
  "nbformat_minor": 0,
  "metadata": {
    "colab": {
      "private_outputs": true,
      "provenance": [],
      "collapsed_sections": [
        "vncDsAP0Gaoa",
        "FJNUwmbgGyua",
        "w6K7xa23Elo4",
        "yQaldy8SH6Dl",
        "mDgbUHAGgjLW",
        "O_i_v8NEhb9l",
        "HhfV-JJviCcP",
        "Y3lxredqlCYt",
        "3RnN4peoiCZX",
        "x71ZqKXriCWQ",
        "7hBIi_osiCS2",
        "JlHwYmJAmNHm",
        "35m5QtbWiB9F",
        "PoPl-ycgm1ru",
        "H0kj-8xxnORC",
        "nA9Y7ga8ng1Z",
        "PBTbrJXOngz2",
        "u3PMJOP6ngxN",
        "dauF4eBmngu3",
        "bKJF3rekwFvQ",
        "MSa1f5Uengrz",
        "GF8Ens_Soomf",
        "0wOQAZs5pc--",
        "K5QZ13OEpz2H",
        "lQ7QKXXCp7Bj",
        "448CDAPjqfQr",
        "KSlN3yHqYklG",
        "t6dVpIINYklI",
        "ijmpgYnKYklI",
        "-JiQyfWJYklI",
        "EM7whBJCYoAo",
        "fge-S5ZAYoAp",
        "85gYPyotYoAp",
        "RoGjAbkUYoAp",
        "4Of9eVA-YrdM",
        "iky9q4vBYrdO",
        "F6T5p64dYrdO",
        "y-Ehk30pYrdP",
        "bamQiAODYuh1",
        "QHF8YVU7Yuh3",
        "GwzvFGzlYuh3",
        "qYpmQ266Yuh3",
        "OH-pJp9IphqM",
        "bbFf2-_FphqN",
        "_ouA3fa0phqN",
        "Seke61FWphqN",
        "PIIx-8_IphqN",
        "t27r6nlMphqO",
        "r2jJGEOYphqO",
        "b0JNsNcRphqO",
        "BZR9WyysphqO",
        "jj7wYXLtphqO",
        "eZrbJ2SmphqO",
        "rFu4xreNphqO",
        "YJ55k-q6phqO",
        "gCFgpxoyphqP",
        "OVtJsKN_phqQ",
        "lssrdh5qphqQ",
        "U2RJ9gkRphqQ",
        "1M8mcRywphqQ",
        "tgIPom80phqQ",
        "JMzcOPDDphqR",
        "x-EpHcCOp1ci",
        "X_VqEhTip1ck",
        "8zGJKyg5p1ck",
        "PVzmfK_Ep1ck",
        "n3dbpmDWp1ck",
        "ylSl6qgtp1ck",
        "ZWILFDl5p1ck",
        "M7G43BXep1ck",
        "Ag9LCva-p1cl",
        "E6MkPsBcp1cl",
        "2cELzS2fp1cl",
        "3MPXvC8up1cl",
        "NC_X3p0fY2L0",
        "UV0SzAkaZNRQ",
        "YPEH6qLeZNRQ",
        "q29F0dvdveiT",
        "EXh0U9oCveiU",
        "22aHeOlLveiV",
        "g-ATYxFrGrvw",
        "Yfr_Vlr8HBkt",
        "8yEUt7NnHlrM",
        "tEA2Xm5dHt1r",
        "I79__PHVH19G",
        "Ou-I18pAyIpj",
        "fF3858GYyt-u",
        "4_0_7-oCpUZd",
        "hwyV_J3ipUZe",
        "3yB-zSqbpUZe",
        "dEUvejAfpUZe",
        "Fd15vwWVpUZf",
        "bn_IUdTipZyH",
        "49K5P_iCpZyH",
        "Nff-vKELpZyI",
        "kLW572S8pZyI",
        "dWbDXHzopZyI",
        "yLjJCtPM0KBk",
        "xiyOF9F70UgQ",
        "7wuGOrhz0itI",
        "id1riN9m0vUs",
        "578E2V7j08f6",
        "89xtkJwZ18nB",
        "67NQN5KX2AMe",
        "Iwf50b-R2tYG",
        "GMQiZwjn3iu7",
        "WVIkgGqN3qsr",
        "XkPnILGE3zoT",
        "Hlsf0x5436Go",
        "mT9DMSJo4nBL",
        "c49ITxTc407N",
        "OeJFEK0N496M",
        "9ExmJH0g5HBk",
        "cJNqERVU536h",
        "k5UmGsbsOxih",
        "T0VqWOYE6DLQ",
        "qBMux9mC6MCf",
        "-oLEiFgy-5Pf",
        "C74aWNz2AliB",
        "2DejudWSA-a0",
        "pEMng2IbBLp7",
        "rAdphbQ9Bhjc",
        "TNVZ9zx19K6k",
        "nqoHp30x9hH9",
        "rMDnDkt2B6du",
        "yiiVWRdJDDil",
        "1UUpS68QDMuG",
        "kexQrXU-DjzY",
        "T5CmagL3EC8N",
        "BhH2vgX9EjGr",
        "qjKvONjwE8ra",
        "P1XJ9OREExlT",
        "VFOzZv6IFROw",
        "TIqpNgepFxVj",
        "VfCC591jGiD4",
        "OB4l2ZhMeS1U",
        "ArJBuiUVfxKd",
        "4qY1EAkEfxKe",
        "PiV4Ypx8fxKe",
        "TfvqoZmBfxKf",
        "dJ2tPlVmpsJ0",
        "JWYfwnehpsJ1",
        "-jK_YjpMpsJ2",
        "HAih1iBOpsJ2",
        "zVGeBEFhpsJ2",
        "bmKjuQ-FpsJ3",
        "Fze-IPXLpx6K",
        "7AN1z2sKpx6M",
        "9PIHJqyupx6M",
        "_-qAgymDpx6N",
        "Z-hykwinpx6N",
        "h_CCil-SKHpo",
        "cBFFvTBNJzUa",
        "HvGl1hHyA_VK",
        "EyNgTHvd2WFk",
        "KH5McJBi2d8v",
        "iW_Lq9qf2h6X",
        "-Kee-DAl2viO",
        "gCX9965dhzqZ",
        "gIfDvo9L0UH2"
      ],
      "include_colab_link": true
    },
    "kernelspec": {
      "name": "python3",
      "display_name": "Python 3"
    },
    "language_info": {
      "name": "python"
    }
  },
  "cells": [
    {
      "cell_type": "markdown",
      "metadata": {
        "id": "view-in-github",
        "colab_type": "text"
      },
      "source": [
        "<a href=\"https://colab.research.google.com/github/bhagyashridhavale/Mobile-price-prediction-classification/blob/main/Mobile_price_prediction_Classification.ipynb\" target=\"_parent\"><img src=\"https://colab.research.google.com/assets/colab-badge.svg\" alt=\"Open In Colab\"/></a>"
      ]
    },
    {
      "cell_type": "markdown",
      "source": [
        "# **Project Name**    - \n",
        "\n"
      ],
      "metadata": {
        "id": "vncDsAP0Gaoa"
      }
    },
    {
      "cell_type": "markdown",
      "source": [
        "![mobile price.jpg](data:image/jpeg;base64,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)"
      ],
      "metadata": {
        "id": "MdyGRFjQ_Ndg"
      }
    },
    {
      "cell_type": "markdown",
      "source": [
        "##### **Project Type**    - Classification\n",
        "##### **Contribution**    - Individual\n",
        "##### **Name(Self) -**    - Bhagyashri Ramesh Dhavale"
      ],
      "metadata": {
        "id": "beRrZCGUAJYm"
      }
    },
    {
      "cell_type": "markdown",
      "source": [
        "# **Project Summary -**"
      ],
      "metadata": {
        "id": "FJNUwmbgGyua"
      }
    },
    {
      "cell_type": "markdown",
      "source": [
        "Write the summary here within 500-600 words."
      ],
      "metadata": {
        "id": "F6v_1wHtG2nS"
      }
    },
    {
      "cell_type": "markdown",
      "source": [
        "# **GitHub Link -**"
      ],
      "metadata": {
        "id": "w6K7xa23Elo4"
      }
    },
    {
      "cell_type": "markdown",
      "source": [
        "Provide your GitHub Link here."
      ],
      "metadata": {
        "id": "h1o69JH3Eqqn"
      }
    },
    {
      "cell_type": "markdown",
      "source": [
        "# **Problem Statement**\n"
      ],
      "metadata": {
        "id": "yQaldy8SH6Dl"
      }
    },
    {
      "cell_type": "markdown",
      "source": [
        "**In the competitive mobile phone market companies want to understand sales data of mobile phones and factors which drive the prices. The objective is to find out some relation between features of a mobile phone (eg - RAM,Internal Memory, etc) and its selling price in this problem, we do not have to predict the actual price but a price range indicating how high the price is?**"
      ],
      "metadata": {
        "id": "DpeJGUA3kjGy"
      }
    },
    {
      "cell_type": "markdown",
      "source": [
        "# **General Guidelines** : -  "
      ],
      "metadata": {
        "id": "mDgbUHAGgjLW"
      }
    },
    {
      "cell_type": "markdown",
      "source": [
        "1.   Well-structured, formatted, and commented code is required. \n",
        "2.   Exception Handling, Production Grade Code & Deployment Ready Code will be a plus. Those students will be awarded some additional credits. \n",
        "     \n",
        "     The additional credits will have advantages over other students during Star Student selection.\n",
        "       \n",
        "             [ Note: - Deployment Ready Code is defined as, the whole .ipynb notebook should be executable in one go\n",
        "                       without a single error logged. ]\n",
        "\n",
        "3.   Each and every logic should have proper comments.\n",
        "4. You may add as many number of charts you want. Make Sure for each and every chart the following format should be answered.\n",
        "        \n",
        "\n",
        "```\n",
        "# Chart visualization code\n",
        "```\n",
        "            \n",
        "\n",
        "*   Why did you pick the specific chart?\n",
        "*   What is/are the insight(s) found from the chart?\n",
        "* Will the gained insights help creating a positive business impact? \n",
        "Are there any insights that lead to negative growth? Justify with specific reason.\n",
        "\n",
        "5. You have to create at least 15 logical & meaningful charts having important insights.\n",
        "\n",
        "\n",
        "[ Hints : - Do the Vizualization in  a structured way while following \"UBM\" Rule. \n",
        "\n",
        "U - Univariate Analysis,\n",
        "\n",
        "B - Bivariate Analysis (Numerical - Categorical, Numerical - Numerical, Categorical - Categorical)\n",
        "\n",
        "M - Multivariate Analysis\n",
        " ]\n",
        "\n",
        "\n",
        "\n",
        "\n",
        "\n",
        "6. You may add more ml algorithms for model creation. Make sure for each and every algorithm, the following format should be answered.\n",
        "\n",
        "\n",
        "*   Explain the ML Model used and it's performance using Evaluation metric Score Chart.\n",
        "\n",
        "\n",
        "*   Cross- Validation & Hyperparameter Tuning\n",
        "\n",
        "*   Have you seen any improvement? Note down the improvement with updates Evaluation metric Score Chart.\n",
        "\n",
        "*   Explain each evaluation metric's indication towards business and the business impact pf the ML model used.\n",
        "\n",
        "\n",
        "\n",
        "\n",
        "\n",
        "\n",
        "\n",
        "\n",
        "\n",
        "\n",
        "\n",
        "\n",
        "\n",
        "\n",
        "\n",
        "\n",
        "\n",
        "\n"
      ],
      "metadata": {
        "id": "ZrxVaUj-hHfC"
      }
    },
    {
      "cell_type": "markdown",
      "source": [
        "# ***Let's Begin !***"
      ],
      "metadata": {
        "id": "O_i_v8NEhb9l"
      }
    },
    {
      "cell_type": "markdown",
      "source": [
        "## ***1. Know Your Data***"
      ],
      "metadata": {
        "id": "HhfV-JJviCcP"
      }
    },
    {
      "cell_type": "markdown",
      "source": [
        "### Import Libraries"
      ],
      "metadata": {
        "id": "Y3lxredqlCYt"
      }
    },
    {
      "cell_type": "code",
      "source": [
        "# Import Libraries\n",
        "\n",
        "import pandas as pd\n",
        "import numpy as np\n",
        "import time\n",
        "import datetime\n",
        "from datetime import datetime\n",
        "import seaborn as sns\n",
        "import matplotlib.pyplot as plt\n",
        "%matplotlib inline\n",
        "from sklearn.linear_model import Ridge, Lasso\n",
        "from sklearn.ensemble import RandomForestRegressor, GradientBoostingRegressor, ExtraTreesRegressor\n",
        "from sklearn.neural_network import MLPRegressor\n",
        "import xgboost as xgb\n",
        "from xgboost import XGBRegressor\n",
        "from sklearn import neighbors\n",
        "from sklearn.svm import SVR\n",
        "from sklearn import metrics\n",
        "from sklearn.metrics import mean_squared_error, r2_score,mean_absolute_error\n",
        "from sklearn.preprocessing import StandardScaler, MinMaxScaler\n",
        "from sklearn.model_selection import train_test_split, KFold\n",
        "from sklearn.preprocessing import OneHotEncoder\n",
        "from sklearn.model_selection import GridSearchCV\n",
        "from sklearn.model_selection import RandomizedSearchCV\n",
        "from sklearn import ensemble\n",
        "from wordcloud import WordCloud,ImageColorGenerator\n",
        "from sklearn.feature_selection import SelectKBest\n",
        "from sklearn.feature_selection import f_regression\n",
        "\n",
        "# ignoring warnings.\n",
        "import warnings\n",
        "warnings.filterwarnings('ignore')"
      ],
      "metadata": {
        "id": "M8Vqi-pPk-HR"
      },
      "execution_count": null,
      "outputs": []
    },
    {
      "cell_type": "markdown",
      "source": [
        "### Dataset Loading"
      ],
      "metadata": {
        "id": "3RnN4peoiCZX"
      }
    },
    {
      "cell_type": "code",
      "source": [
        "# Load Dataset\n",
        "from google.colab import drive"
      ],
      "metadata": {
        "id": "4CkvbW_SlZ_R"
      },
      "execution_count": null,
      "outputs": []
    },
    {
      "cell_type": "code",
      "source": [
        "drive.mount('/content/drive')"
      ],
      "metadata": {
        "id": "YSNVViR15q7f"
      },
      "execution_count": null,
      "outputs": []
    },
    {
      "cell_type": "code",
      "source": [
        "df = pd.read_csv(\"/content/drive/MyDrive/Colab Notebooks/Classification project/data_mobile_price_range.csv\")"
      ],
      "metadata": {
        "id": "XuUhGBVi5zAB"
      },
      "execution_count": null,
      "outputs": []
    },
    {
      "cell_type": "markdown",
      "source": [
        "### Dataset First View"
      ],
      "metadata": {
        "id": "x71ZqKXriCWQ"
      }
    },
    {
      "cell_type": "code",
      "source": [
        "# Dataset First Look\n",
        "df.head()"
      ],
      "metadata": {
        "id": "LWNFOSvLl09H"
      },
      "execution_count": null,
      "outputs": []
    },
    {
      "cell_type": "markdown",
      "source": [
        "### Dataset Rows & Columns count"
      ],
      "metadata": {
        "id": "7hBIi_osiCS2"
      }
    },
    {
      "cell_type": "code",
      "source": [
        "# Dataset Rows & Columns count\n",
        "df.shape"
      ],
      "metadata": {
        "id": "Kllu7SJgmLij"
      },
      "execution_count": null,
      "outputs": []
    },
    {
      "cell_type": "markdown",
      "source": [
        "### Dataset Information"
      ],
      "metadata": {
        "id": "JlHwYmJAmNHm"
      }
    },
    {
      "cell_type": "code",
      "source": [
        "# Dataset Info\n",
        "df.info()"
      ],
      "metadata": {
        "id": "e9hRXRi6meOf"
      },
      "execution_count": null,
      "outputs": []
    },
    {
      "cell_type": "markdown",
      "source": [
        "#### Duplicate Values"
      ],
      "metadata": {
        "id": "35m5QtbWiB9F"
      }
    },
    {
      "cell_type": "code",
      "source": [
        "# Dataset Duplicate Value Count\n",
        "df.duplicated().sum()"
      ],
      "metadata": {
        "id": "1sLdpKYkmox0"
      },
      "execution_count": null,
      "outputs": []
    },
    {
      "cell_type": "markdown",
      "source": [
        "#### Missing Values/Null Values"
      ],
      "metadata": {
        "id": "PoPl-ycgm1ru"
      }
    },
    {
      "cell_type": "code",
      "source": [
        "# Missing Values/Null Values Count\n",
        "print(df.isnull().sum())"
      ],
      "metadata": {
        "id": "GgHWkxvamxVg"
      },
      "execution_count": null,
      "outputs": []
    },
    {
      "cell_type": "code",
      "source": [
        "# Visualizing the missing values\n",
        "plt.rcParams['figure.figsize'] = (15, 10)\n",
        "sns.heatmap(df.isnull(), yticklabels=False, cbar=True, cmap='BuPu')"
      ],
      "metadata": {
        "id": "3q5wnI3om9sJ"
      },
      "execution_count": null,
      "outputs": []
    },
    {
      "cell_type": "code",
      "source": [
        "# looking how many values are missing.\n",
        "\n",
        "def missing_zero_values_table(df):\n",
        "  zero_val = (df == 0.00).astype(int).sum(axis=0)\n",
        "  mis_val = df.isnull().sum()\n",
        "  mis_val_percent = 100 * df.isnull().sum()/len(df)\n",
        "  mz_table = pd.concat([zero_val,mis_val,mis_val_percent],axis=1)\n",
        "  mz_table = mz_table.rename(\n",
        "  columns = {0 : 'Zero Values' , 1 : 'Missing Values' , 2 : '% of Total Values'})\n",
        "  mz_table['Total Zero Missing Values'] = mz_table['Zero Values'] + mz_table['Missing Values']\n",
        "  mz_table['% Total Zero Missing Values'] = 100 * mz_table[\"Total Zero Missing Values\"]/len(df)\n",
        "  mz_table['Data Type'] = df.dtypes\n",
        "  mz_table = mz_table[\n",
        "      mz_table.iloc[:,1] !=0].sort_values(\n",
        "  '% of Total Values',ascending=False).round(1)\n",
        "  print (\" Your selected dataframe has \" + str (df.shape[1]) + \" columns and \" + str (df.shape[0]) + \" Rows.\\n \"\n",
        "      \" There are \" + str (mz_table.shape[0]) +\n",
        "          \" columns that have missing values . \" )\n",
        "#    mz_table.to_excel('D:/sampledata/missing_and_zero_values.xlsx',freeze_panes=(1,0),index=False)\n",
        "  return mz_table\n",
        "missing_zero_values_table(df)"
      ],
      "metadata": {
        "id": "Ova0YQj7th2j"
      },
      "execution_count": null,
      "outputs": []
    },
    {
      "cell_type": "markdown",
      "source": [
        "### What did you know about your dataset?"
      ],
      "metadata": {
        "id": "H0kj-8xxnORC"
      }
    },
    {
      "cell_type": "markdown",
      "source": [
        "***1.In given dataset mobile phone market companies want to understand sales data of mobile phones.***\n",
        "\n",
        "***2.Dataset has 21 cplumns and 2000 rows.***\n",
        "\n",
        "***3.Dataset has 0 missing values.***\n",
        "\n",
        "***4.Dataset has 0 duplicate values.***"
      ],
      "metadata": {
        "id": "gfoNAAC-nUe_"
      }
    },
    {
      "cell_type": "markdown",
      "source": [
        "## ***2. Understanding Your Variables***"
      ],
      "metadata": {
        "id": "nA9Y7ga8ng1Z"
      }
    },
    {
      "cell_type": "code",
      "source": [
        "# Dataset Columns\n",
        "df.columns"
      ],
      "metadata": {
        "id": "j7xfkqrt5Ag5"
      },
      "execution_count": null,
      "outputs": []
    },
    {
      "cell_type": "code",
      "source": [
        "# Dataset Describe\n",
        "df.describe()"
      ],
      "metadata": {
        "id": "DnOaZdaE5Q5t"
      },
      "execution_count": null,
      "outputs": []
    },
    {
      "cell_type": "markdown",
      "source": [
        "### Variables Description "
      ],
      "metadata": {
        "id": "PBTbrJXOngz2"
      }
    },
    {
      "cell_type": "markdown",
      "source": [
        "***Battery_power - Total energy a battery can store in one time measured in mAh***\n",
        "\n",
        "***Blue - Has bluetooth or not***\n",
        "\n",
        "***Clock_speed - speed at which microprocessor executes instructions***\n",
        "\n",
        "***Dual_sim - Has dual sim support or not***\n",
        "\n",
        "***Fc - Front Camera mega pixels***\n",
        "\n",
        "***Four_g- Has 4G or not***\n",
        "\n",
        "***Int_memory - Internal Memory in Gigabytes***\n",
        "\n",
        "***M_dep - Mobile Depth in cm***\n",
        "\n",
        "***Mobile_wt - Weight of mobile phone***\n",
        "\n",
        "***N_cores - Number of cores of processor***\n",
        "\n",
        "***Pc - Primary Camera mega pixels***\n",
        "\n",
        "***Px_height - Pixel Resolution Height***\n",
        "\n",
        "***Px_width - Pixel Resolution Width***\n",
        "\n",
        "***Ram - Random Access Memory in Mega***\n",
        "\n",
        "***Touch_screen - Has touch screen or not***\n",
        "\n",
        "***Wifi - Has wifi or not***\n",
        "\n",
        "***Sc_h - Screen Height of mobile in cm***\n",
        "\n",
        "***Sc_w - Screen Width of mobile in cm***\n",
        "\n",
        "***Talk_time - longest time that a single battery charge will last when you are***\n",
        "\n",
        "***Three_g - Has 3G or not.***\n",
        "\n",
        "***Wifi - Has wifi or not.***\n",
        "\n",
        "***Price_range - This is the target variable with value of 0(low cost), (medium cost),2(high cost) and 3(very high cost).***"
      ],
      "metadata": {
        "id": "aJV4KIxSnxay"
      }
    },
    {
      "cell_type": "markdown",
      "source": [
        "### Check Unique Values for each variable."
      ],
      "metadata": {
        "id": "u3PMJOP6ngxN"
      }
    },
    {
      "cell_type": "code",
      "source": [
        "# Check Unique Values for each variable.\n",
        "# Check Unique Values for each variable.\n",
        "for i in df.columns.tolist():\n",
        "  print(\"No.of unique values in\",i,\"is\",df[i].nunique(),\".\")"
      ],
      "metadata": {
        "id": "zms12Yq5n-jE"
      },
      "execution_count": null,
      "outputs": []
    },
    {
      "cell_type": "markdown",
      "source": [
        "## 3. ***Data Wrangling***"
      ],
      "metadata": {
        "id": "dauF4eBmngu3"
      }
    },
    {
      "cell_type": "markdown",
      "source": [
        "### Data Wrangling Code"
      ],
      "metadata": {
        "id": "bKJF3rekwFvQ"
      }
    },
    {
      "cell_type": "code",
      "source": [
        "data_cat = df[['blue','dual_sim', 'four_g','three_g','touch_screen', 'wifi']]\n",
        "\n",
        "data_num = df[['battery_power',  'clock_speed' , 'fc','int_memory','m_dep', 'mobile_wt','n_cores', 'pc',\n",
        "                      'px_height','px_width','ram', 'sc_h', 'sc_w', 'talk_time']]"
      ],
      "metadata": {
        "id": "OV8cL_LfFuEx"
      },
      "execution_count": null,
      "outputs": []
    },
    {
      "cell_type": "code",
      "source": [
        "data_cat"
      ],
      "metadata": {
        "id": "1Vrlsa0qF8lQ"
      },
      "execution_count": null,
      "outputs": []
    },
    {
      "cell_type": "code",
      "source": [
        "data_num"
      ],
      "metadata": {
        "id": "eUbxFaOdG3ZL"
      },
      "execution_count": null,
      "outputs": []
    },
    {
      "cell_type": "markdown",
      "source": [
        "### What all manipulations have you done and insights you found?"
      ],
      "metadata": {
        "id": "MSa1f5Uengrz"
      }
    },
    {
      "cell_type": "markdown",
      "source": [
        "***The dependent variable 4 types of unique variable and all 4 same length of value are their.***"
      ],
      "metadata": {
        "id": "LbyXE7I1olp8"
      }
    },
    {
      "cell_type": "markdown",
      "source": [
        "## ***4. Data Vizualization, Storytelling & Experimenting with charts : Understand the relationships between variables***"
      ],
      "metadata": {
        "id": "GF8Ens_Soomf"
      }
    },
    {
      "cell_type": "markdown",
      "source": [
        "#### Chart - 1"
      ],
      "metadata": {
        "id": "0wOQAZs5pc--"
      }
    },
    {
      "cell_type": "code",
      "source": [
        "# Chart - 1 visualization code\n",
        "#Internal Memory vs Price Range\n",
        "sns.pointplot(y=\"int_memory\", x=\"price_range\", data=df)\n"
      ],
      "metadata": {
        "id": "7v_ESjsspbW7"
      },
      "execution_count": null,
      "outputs": []
    },
    {
      "cell_type": "markdown",
      "source": [
        "##### 1. Why did you pick the specific chart?"
      ],
      "metadata": {
        "id": "K5QZ13OEpz2H"
      }
    },
    {
      "cell_type": "markdown",
      "source": [
        "***Represent an estimate of central tendency for a numeric variable by the position of the dot.***"
      ],
      "metadata": {
        "id": "XESiWehPqBRc"
      }
    },
    {
      "cell_type": "markdown",
      "source": [
        "##### 2. What is/are the insight(s) found from the chart?"
      ],
      "metadata": {
        "id": "lQ7QKXXCp7Bj"
      }
    },
    {
      "cell_type": "markdown",
      "source": [
        "***Position of dot representing int_memory and price_range***\n"
      ],
      "metadata": {
        "id": "C_j1G7yiqdRP"
      }
    },
    {
      "cell_type": "markdown",
      "source": [
        "##### 3. Will the gained insights help creating a positive business impact? \n",
        "Are there any insights that lead to negative growth? Justify with specific reason."
      ],
      "metadata": {
        "id": "448CDAPjqfQr"
      }
    },
    {
      "cell_type": "markdown",
      "source": [
        "Answer Here"
      ],
      "metadata": {
        "id": "3cspy4FjqxJW"
      }
    },
    {
      "cell_type": "markdown",
      "source": [
        "#### Chart - 2"
      ],
      "metadata": {
        "id": "KSlN3yHqYklG"
      }
    },
    {
      "cell_type": "code",
      "source": [
        "# Chart - 2 visualization code\n",
        "#How does ram is affected by price\n",
        "sns.jointplot(x='ram',y='price_range',data=df,color='red',kind='kde')"
      ],
      "metadata": {
        "id": "R4YgtaqtYklH"
      },
      "execution_count": null,
      "outputs": []
    },
    {
      "cell_type": "markdown",
      "source": [
        "##### 1. Why did you pick the specific chart?"
      ],
      "metadata": {
        "id": "t6dVpIINYklI"
      }
    },
    {
      "cell_type": "markdown",
      "source": [
        "***Plot of two vwriables with bivariate and univariate graphs.***"
      ],
      "metadata": {
        "id": "5aaW0BYyYklI"
      }
    },
    {
      "cell_type": "markdown",
      "source": [
        "##### 2. What is/are the insight(s) found from the chart?"
      ],
      "metadata": {
        "id": "ijmpgYnKYklI"
      }
    },
    {
      "cell_type": "markdown",
      "source": [
        "***With the help of this graph we quikly visualize and analyse the relation between ram and price range.***"
      ],
      "metadata": {
        "id": "PSx9atu2YklI"
      }
    },
    {
      "cell_type": "markdown",
      "source": [
        "##### 3. Will the gained insights help creating a positive business impact? \n",
        "Are there any insights that lead to negative growth? Justify with specific reason."
      ],
      "metadata": {
        "id": "-JiQyfWJYklI"
      }
    },
    {
      "cell_type": "markdown",
      "source": [
        "Answer Here"
      ],
      "metadata": {
        "id": "BcBbebzrYklV"
      }
    },
    {
      "cell_type": "markdown",
      "source": [
        "#### Chart - 3"
      ],
      "metadata": {
        "id": "EM7whBJCYoAo"
      }
    },
    {
      "cell_type": "code",
      "source": [
        "# Chart - 3 visualization code\n",
        "# Dependent Column Value Counts\n",
        "print(df.price_range.value_counts())\n",
        "print(\" \")\n",
        "# Dependent Variable Column Visualization\n",
        "df['price_range'].value_counts().plot(kind='pie',\n",
        "                              figsize=(15,10),\n",
        "                              autopct=\"%1.1f%%\",\n",
        "                               startangle=90,\n",
        "                               shadow=True,\n",
        "                               labels=[\"low cost(0)\", \"medium cost(1)\", \"high cost(2)\", \"very high cost(3)\"],\n",
        "                               colors=['blue','red','green','cyan'],\n",
        "                               explode=[0,0,0,0]\n",
        "                              )"
      ],
      "metadata": {
        "id": "t6GMdE67YoAp"
      },
      "execution_count": null,
      "outputs": []
    },
    {
      "cell_type": "markdown",
      "source": [
        "##### 1. Why did you pick the specific chart?"
      ],
      "metadata": {
        "id": "fge-S5ZAYoAp"
      }
    },
    {
      "cell_type": "markdown",
      "source": [
        "***It show the size of items in one data.***"
      ],
      "metadata": {
        "id": "5dBItgRVYoAp"
      }
    },
    {
      "cell_type": "markdown",
      "source": [
        "##### 2. What is/are the insight(s) found from the chart?"
      ],
      "metadata": {
        "id": "85gYPyotYoAp"
      }
    },
    {
      "cell_type": "markdown",
      "source": [
        "***Price range shows low cost 25% (0),medium cost 25% (1), high cost 25% (2), very high cost 25%(3)***"
      ],
      "metadata": {
        "id": "4jstXR6OYoAp"
      }
    },
    {
      "cell_type": "markdown",
      "source": [
        "##### 3. Will the gained insights help creating a positive business impact? \n",
        "Are there any insights that lead to negative growth? Justify with specific reason."
      ],
      "metadata": {
        "id": "RoGjAbkUYoAp"
      }
    },
    {
      "cell_type": "markdown",
      "source": [
        "Answer Here"
      ],
      "metadata": {
        "id": "zfJ8IqMcYoAp"
      }
    },
    {
      "cell_type": "markdown",
      "source": [
        "#### Chart - 4"
      ],
      "metadata": {
        "id": "4Of9eVA-YrdM"
      }
    },
    {
      "cell_type": "code",
      "source": [
        "# Chart - 4 visualization code\n",
        "sns.countplot(df['price_range'])\n"
      ],
      "metadata": {
        "id": "irlUoxc8YrdO"
      },
      "execution_count": null,
      "outputs": []
    },
    {
      "cell_type": "markdown",
      "source": [
        "##### 1. Why did you pick the specific chart?"
      ],
      "metadata": {
        "id": "iky9q4vBYrdO"
      }
    },
    {
      "cell_type": "markdown",
      "source": [
        "***To show the counts of observation in each categorical bars.***"
      ],
      "metadata": {
        "id": "aJRCwT6DYrdO"
      }
    },
    {
      "cell_type": "markdown",
      "source": [
        "##### 2. What is/are the insight(s) found from the chart?"
      ],
      "metadata": {
        "id": "F6T5p64dYrdO"
      }
    },
    {
      "cell_type": "markdown",
      "source": [
        "***1.All mobile price range category are equally important.***\n",
        "\n",
        "***2.There are 500 mobile data which are low cost, 500 mobile data which are medium cost, 500 mobile data which are high cost and 500 mobile data which are very high cost of the whole mobile data given in the dataset.***\n",
        "\n",
        "\n",
        "\n"
      ],
      "metadata": {
        "id": "Xx8WAJvtYrdO"
      }
    },
    {
      "cell_type": "markdown",
      "source": [
        "##### 3. Will the gained insights help creating a positive business impact? \n",
        "Are there any insights that lead to negative growth? Justify with specific reason."
      ],
      "metadata": {
        "id": "y-Ehk30pYrdP"
      }
    },
    {
      "cell_type": "markdown",
      "source": [
        "Answer Here"
      ],
      "metadata": {
        "id": "jLNxxz7MYrdP"
      }
    },
    {
      "cell_type": "markdown",
      "source": [
        "#### Chart - 5"
      ],
      "metadata": {
        "id": "bamQiAODYuh1"
      }
    },
    {
      "cell_type": "code",
      "source": [
        "# Chart - 5 visualization code\n",
        "# % of Phones which support 3G\n",
        "labels = [\"3G-supported\",'Not supported']\n",
        "values=df['three_g'].value_counts().values\n",
        "fig1, ax1 = plt.subplots()\n",
        "ax1.pie(values, labels=labels, autopct='%1.1f%%',shadow=True,startangle=90)\n",
        "plt.show()"
      ],
      "metadata": {
        "id": "TIJwrbroYuh3"
      },
      "execution_count": null,
      "outputs": []
    },
    {
      "cell_type": "markdown",
      "source": [
        "##### 1. Why did you pick the specific chart?"
      ],
      "metadata": {
        "id": "QHF8YVU7Yuh3"
      }
    },
    {
      "cell_type": "markdown",
      "source": [
        "***To show the counts of observation in each categorical bars.***"
      ],
      "metadata": {
        "id": "dcxuIMRPYuh3"
      }
    },
    {
      "cell_type": "markdown",
      "source": [
        "##### 2. What is/are the insight(s) found from the chart?"
      ],
      "metadata": {
        "id": "GwzvFGzlYuh3"
      }
    },
    {
      "cell_type": "markdown",
      "source": [
        "***chart show 76.2% support 3g and 23.8% not support 3g.***"
      ],
      "metadata": {
        "id": "uyqkiB8YYuh3"
      }
    },
    {
      "cell_type": "markdown",
      "source": [
        "##### 3. Will the gained insights help creating a positive business impact? \n",
        "Are there any insights that lead to negative growth? Justify with specific reason."
      ],
      "metadata": {
        "id": "qYpmQ266Yuh3"
      }
    },
    {
      "cell_type": "markdown",
      "source": [
        "Answer Here"
      ],
      "metadata": {
        "id": "_WtzZ_hCYuh4"
      }
    },
    {
      "cell_type": "markdown",
      "source": [
        "#### Chart - 6"
      ],
      "metadata": {
        "id": "OH-pJp9IphqM"
      }
    },
    {
      "cell_type": "code",
      "source": [
        "# Chart - 6 visualization code\n",
        "for i in data_num.columns:\n",
        "    plt.hist(df[i],color='#EBA532')\n",
        "    plt.title(i)\n",
        "    plt.show()"
      ],
      "metadata": {
        "id": "kuRf4wtuphqN"
      },
      "execution_count": null,
      "outputs": []
    },
    {
      "cell_type": "markdown",
      "source": [
        "##### 1. Why did you pick the specific chart?"
      ],
      "metadata": {
        "id": "bbFf2-_FphqN"
      }
    },
    {
      "cell_type": "markdown",
      "source": [
        "***In this histplot graph we check all nummerical column check the frequency.***\n",
        "\n"
      ],
      "metadata": {
        "id": "loh7H2nzphqN"
      }
    },
    {
      "cell_type": "markdown",
      "source": [
        "##### 2. What is/are the insight(s) found from the chart?"
      ],
      "metadata": {
        "id": "_ouA3fa0phqN"
      }
    },
    {
      "cell_type": "markdown",
      "source": [
        "***Represents the distribution of one or more variables by counting the number of observations.***"
      ],
      "metadata": {
        "id": "VECbqPI7phqN"
      }
    },
    {
      "cell_type": "markdown",
      "source": [
        "##### 3. Will the gained insights help creating a positive business impact? \n",
        "Are there any insights that lead to negative growth? Justify with specific reason."
      ],
      "metadata": {
        "id": "Seke61FWphqN"
      }
    },
    {
      "cell_type": "markdown",
      "source": [
        "Answer Here"
      ],
      "metadata": {
        "id": "DW4_bGpfphqN"
      }
    },
    {
      "cell_type": "markdown",
      "source": [
        "#### Chart - 7"
      ],
      "metadata": {
        "id": "PIIx-8_IphqN"
      }
    },
    {
      "cell_type": "code",
      "source": [
        "# Chart - 7 visualization code\n",
        "# % of Phones which support 4G\n",
        "labels4g = [\"4G-supported\",'Not supported']\n",
        "values4g = df['four_g'].value_counts().values\n",
        "fig1, ax1 = plt.subplots()\n",
        "ax1.pie(values4g, labels=labels4g, autopct='%1.1f%%',shadow=True,startangle=90)\n",
        "plt.show()"
      ],
      "metadata": {
        "id": "lqAIGUfyphqO"
      },
      "execution_count": null,
      "outputs": []
    },
    {
      "cell_type": "markdown",
      "source": [
        "##### 1. Why did you pick the specific chart?"
      ],
      "metadata": {
        "id": "t27r6nlMphqO"
      }
    },
    {
      "cell_type": "markdown",
      "source": [
        "***Circular statistical graphic which divided into slices to illustrate numerical proportion.*** "
      ],
      "metadata": {
        "id": "iv6ro40sphqO"
      }
    },
    {
      "cell_type": "markdown",
      "source": [
        "##### 2. What is/are the insight(s) found from the chart?"
      ],
      "metadata": {
        "id": "r2jJGEOYphqO"
      }
    },
    {
      "cell_type": "markdown",
      "source": [
        "***chart show 4g support in this 52.1% shows 4g support and 47.9% show not supported.***"
      ],
      "metadata": {
        "id": "Po6ZPi4hphqO"
      }
    },
    {
      "cell_type": "markdown",
      "source": [
        "##### 3. Will the gained insights help creating a positive business impact? \n",
        "Are there any insights that lead to negative growth? Justify with specific reason."
      ],
      "metadata": {
        "id": "b0JNsNcRphqO"
      }
    },
    {
      "cell_type": "markdown",
      "source": [
        "Answer Here"
      ],
      "metadata": {
        "id": "xvSq8iUTphqO"
      }
    },
    {
      "cell_type": "markdown",
      "source": [
        "#### Chart - 8"
      ],
      "metadata": {
        "id": "BZR9WyysphqO"
      }
    },
    {
      "cell_type": "code",
      "source": [
        "# Chart - 8 visualization code\n",
        "# battery power Vs price range.\n",
        "sns.boxplot(x=\"price_range\", y=\"battery_power\", data=df)\n"
      ],
      "metadata": {
        "id": "TdPTWpAVphqO"
      },
      "execution_count": null,
      "outputs": []
    },
    {
      "cell_type": "markdown",
      "source": [
        "##### 1. Why did you pick the specific chart?"
      ],
      "metadata": {
        "id": "jj7wYXLtphqO"
      }
    },
    {
      "cell_type": "markdown",
      "source": [
        "***Showing the distribution of data points across a selected measure.***"
      ],
      "metadata": {
        "id": "Ob8u6rCTphqO"
      }
    },
    {
      "cell_type": "markdown",
      "source": [
        "##### 2. What is/are the insight(s) found from the chart?"
      ],
      "metadata": {
        "id": "eZrbJ2SmphqO"
      }
    },
    {
      "cell_type": "markdown",
      "source": [
        "***These chart display battery power with price range.***"
      ],
      "metadata": {
        "id": "mZtgC_hjphqO"
      }
    },
    {
      "cell_type": "markdown",
      "source": [
        "##### 3. Will the gained insights help creating a positive business impact? \n",
        "Are there any insights that lead to negative growth? Justify with specific reason."
      ],
      "metadata": {
        "id": "rFu4xreNphqO"
      }
    },
    {
      "cell_type": "markdown",
      "source": [
        "Answer Here"
      ],
      "metadata": {
        "id": "ey_0qi68phqO"
      }
    },
    {
      "cell_type": "markdown",
      "source": [
        "#### Chart - 9"
      ],
      "metadata": {
        "id": "YJ55k-q6phqO"
      }
    },
    {
      "cell_type": "code",
      "source": [
        "# Chart - 9 visualization code\n",
        "# No of Phones vs Camera megapixels of front and primary camera\n",
        "plt.figure(figsize=(10,6))\n",
        "df['fc'].hist(alpha=0.5,color='blue',label='Front camera')\n",
        "df['pc'].hist(alpha=0.5,color='red',label='Primary camera')\n",
        "plt.legend()\n",
        "plt.xlabel('MegaPixels')\n"
      ],
      "metadata": {
        "id": "B2aS4O1ophqO"
      },
      "execution_count": null,
      "outputs": []
    },
    {
      "cell_type": "markdown",
      "source": [
        "##### 1. Why did you pick the specific chart?"
      ],
      "metadata": {
        "id": "gCFgpxoyphqP"
      }
    },
    {
      "cell_type": "markdown",
      "source": [
        "***Is a accurate representation of the distriution of numerical data.***"
      ],
      "metadata": {
        "id": "TVxDimi2phqP"
      }
    },
    {
      "cell_type": "markdown",
      "source": [
        "##### 2. What is/are the insight(s) found from the chart?"
      ],
      "metadata": {
        "id": "OVtJsKN_phqQ"
      }
    },
    {
      "cell_type": "markdown",
      "source": [
        "***No of Phones vs Camera megapixels of front and primary camera.***"
      ],
      "metadata": {
        "id": "ngGi97qjphqQ"
      }
    },
    {
      "cell_type": "markdown",
      "source": [
        "##### 3. Will the gained insights help creating a positive business impact? \n",
        "Are there any insights that lead to negative growth? Justify with specific reason."
      ],
      "metadata": {
        "id": "lssrdh5qphqQ"
      }
    },
    {
      "cell_type": "markdown",
      "source": [
        "Answer Here"
      ],
      "metadata": {
        "id": "tBpY5ekJphqQ"
      }
    },
    {
      "cell_type": "markdown",
      "source": [
        "#### Chart - 10"
      ],
      "metadata": {
        "id": "U2RJ9gkRphqQ"
      }
    },
    {
      "cell_type": "code",
      "source": [
        "# Chart - 10 visualization code\n",
        "labels4g = [\"dual_sim-supported\",'Not supported']\n",
        "values4g = df['dual_sim'].value_counts().values\n",
        "fig1, ax1 = plt.subplots()\n",
        "ax1.pie(values4g, labels=labels4g, autopct='%1.1f%%',shadow=True,startangle=90)\n",
        "plt.show()"
      ],
      "metadata": {
        "id": "GM7a4YP4phqQ"
      },
      "execution_count": null,
      "outputs": []
    },
    {
      "cell_type": "markdown",
      "source": [
        "##### 1. Why did you pick the specific chart?"
      ],
      "metadata": {
        "id": "1M8mcRywphqQ"
      }
    },
    {
      "cell_type": "markdown",
      "source": [
        "***Chart helps organize and show data as a percentageof a whole.***"
      ],
      "metadata": {
        "id": "8agQvks0phqQ"
      }
    },
    {
      "cell_type": "markdown",
      "source": [
        "##### 2. What is/are the insight(s) found from the chart?"
      ],
      "metadata": {
        "id": "tgIPom80phqQ"
      }
    },
    {
      "cell_type": "markdown",
      "source": [
        "***Chart show dual sim support in that 51% shows sopported and 49.1% show not supported.***"
      ],
      "metadata": {
        "id": "Qp13pnNzphqQ"
      }
    },
    {
      "cell_type": "markdown",
      "source": [
        "##### 3. Will the gained insights help creating a positive business impact? \n",
        "Are there any insights that lead to negative growth? Justify with specific reason."
      ],
      "metadata": {
        "id": "JMzcOPDDphqR"
      }
    },
    {
      "cell_type": "markdown",
      "source": [
        "Answer Here"
      ],
      "metadata": {
        "id": "R4Ka1PC2phqR"
      }
    },
    {
      "cell_type": "markdown",
      "source": [
        "#### Chart - 11"
      ],
      "metadata": {
        "id": "x-EpHcCOp1ci"
      }
    },
    {
      "cell_type": "code",
      "source": [
        "# Chart - 11 visualization code\n",
        "sns.pairplot(df , y_vars = 'battery_power' , x_vars = 'price_range' , size = 7)"
      ],
      "metadata": {
        "id": "mAQTIvtqp1cj"
      },
      "execution_count": null,
      "outputs": []
    },
    {
      "cell_type": "markdown",
      "source": [
        "##### 1. Why did you pick the specific chart?"
      ],
      "metadata": {
        "id": "X_VqEhTip1ck"
      }
    },
    {
      "cell_type": "markdown",
      "source": [
        "***Plot allows us to represent pairwise relationship between variable within a dataset.***"
      ],
      "metadata": {
        "id": "-vsMzt_np1ck"
      }
    },
    {
      "cell_type": "markdown",
      "source": [
        "##### 2. What is/are the insight(s) found from the chart?"
      ],
      "metadata": {
        "id": "8zGJKyg5p1ck"
      }
    },
    {
      "cell_type": "markdown",
      "source": [
        "*** plot help us to show difference between battery power and price range.***"
      ],
      "metadata": {
        "id": "ZYdMsrqVp1ck"
      }
    },
    {
      "cell_type": "markdown",
      "source": [
        "##### 3. Will the gained insights help creating a positive business impact? \n",
        "Are there any insights that lead to negative growth? Justify with specific reason."
      ],
      "metadata": {
        "id": "PVzmfK_Ep1ck"
      }
    },
    {
      "cell_type": "markdown",
      "source": [
        "Answer Here"
      ],
      "metadata": {
        "id": "druuKYZpp1ck"
      }
    },
    {
      "cell_type": "markdown",
      "source": [
        "#### Chart - 12"
      ],
      "metadata": {
        "id": "n3dbpmDWp1ck"
      }
    },
    {
      "cell_type": "code",
      "source": [
        "# Chart - 12 visualization code\n",
        "# mobile weight vs price range\n",
        "sns.jointplot(x='mobile_wt',y='price_range',data=df,kind='kde');\n"
      ],
      "metadata": {
        "id": "bwevp1tKp1ck"
      },
      "execution_count": null,
      "outputs": []
    },
    {
      "cell_type": "markdown",
      "source": [
        "##### 1. Why did you pick the specific chart?"
      ],
      "metadata": {
        "id": "ylSl6qgtp1ck"
      }
    },
    {
      "cell_type": "markdown",
      "source": [
        "***Describe their individual distribution on the same plot.***"
      ],
      "metadata": {
        "id": "m2xqNkiQp1ck"
      }
    },
    {
      "cell_type": "markdown",
      "source": [
        "##### 2. What is/are the insight(s) found from the chart?"
      ],
      "metadata": {
        "id": "ZWILFDl5p1ck"
      }
    },
    {
      "cell_type": "markdown",
      "source": [
        "***It show price range and mobile wt distribution in same plot.***"
      ],
      "metadata": {
        "id": "x-lUsV2mp1ck"
      }
    },
    {
      "cell_type": "markdown",
      "source": [
        "##### 3. Will the gained insights help creating a positive business impact? \n",
        "Are there any insights that lead to negative growth? Justify with specific reason."
      ],
      "metadata": {
        "id": "M7G43BXep1ck"
      }
    },
    {
      "cell_type": "markdown",
      "source": [
        "Answer Here"
      ],
      "metadata": {
        "id": "5wwDJXsLp1cl"
      }
    },
    {
      "cell_type": "markdown",
      "source": [
        "#### Chart - 13"
      ],
      "metadata": {
        "id": "Ag9LCva-p1cl"
      }
    },
    {
      "cell_type": "code",
      "source": [
        "# Chart - 13 visualization code\n",
        "sns.jointplot(x='wifi',y='price_range',data=df,kind='kde');\n"
      ],
      "metadata": {
        "id": "EUfxeq9-p1cl"
      },
      "execution_count": null,
      "outputs": []
    },
    {
      "cell_type": "markdown",
      "source": [
        "##### 1. Why did you pick the specific chart?"
      ],
      "metadata": {
        "id": "E6MkPsBcp1cl"
      }
    },
    {
      "cell_type": "markdown",
      "source": [
        "***Quickly visualization and analyze between two variables.***"
      ],
      "metadata": {
        "id": "V22bRsFWp1cl"
      }
    },
    {
      "cell_type": "markdown",
      "source": [
        "##### 2. What is/are the insight(s) found from the chart?"
      ],
      "metadata": {
        "id": "2cELzS2fp1cl"
      }
    },
    {
      "cell_type": "markdown",
      "source": [
        "***Price range and wifi plot.***\n"
      ],
      "metadata": {
        "id": "ozQPc2_Ip1cl"
      }
    },
    {
      "cell_type": "markdown",
      "source": [
        "##### 3. Will the gained insights help creating a positive business impact? \n",
        "Are there any insights that lead to negative growth? Justify with specific reason."
      ],
      "metadata": {
        "id": "3MPXvC8up1cl"
      }
    },
    {
      "cell_type": "markdown",
      "source": [
        "Answer Here"
      ],
      "metadata": {
        "id": "GL8l1tdLp1cl"
      }
    },
    {
      "cell_type": "markdown",
      "source": [
        "#### Chart - 14 - Correlation Heatmap"
      ],
      "metadata": {
        "id": "NC_X3p0fY2L0"
      }
    },
    {
      "cell_type": "code",
      "source": [
        "# Correlation Heatmap visualization code\n",
        "plt.figure(figsize=(20,20))\n",
        "sns.heatmap(df.corr(),annot=True,cmap=plt.cm.Accent_r)\n",
        "plt.show()"
      ],
      "metadata": {
        "id": "xyC9zolEZNRQ"
      },
      "execution_count": null,
      "outputs": []
    },
    {
      "cell_type": "markdown",
      "source": [
        "##### 1. Why did you pick the specific chart?"
      ],
      "metadata": {
        "id": "UV0SzAkaZNRQ"
      }
    },
    {
      "cell_type": "markdown",
      "source": [
        "***The correlation heatmap illustrates the relationship between each dataset compared to every other dataset.***"
      ],
      "metadata": {
        "id": "DVPuT8LYZNRQ"
      }
    },
    {
      "cell_type": "markdown",
      "source": [
        "##### 2. What is/are the insight(s) found from the chart?"
      ],
      "metadata": {
        "id": "YPEH6qLeZNRQ"
      }
    },
    {
      "cell_type": "markdown",
      "source": [
        "***1.we can see total price range are positiveliy highly correlated with a value of 1.***\n",
        "\n",
        "***2.we can see total ram are correlated with a value of 92%.***\n",
        "\n",
        "***3.we can see total pc and fc are correlated with a value of 65%.***\n",
        "\n",
        "***4.price range is positively correlated only with all features and negative correlated with rest variables.***\n",
        "\n",
        "***Rest all correlation can be depicted from the above chart.***"
      ],
      "metadata": {
        "id": "bfSqtnDqZNRR"
      }
    },
    {
      "cell_type": "markdown",
      "source": [
        "#### Chart - 15 - Pair Plot "
      ],
      "metadata": {
        "id": "q29F0dvdveiT"
      }
    },
    {
      "cell_type": "code",
      "source": [
        "# Pair Plot visualization code\n",
        "sns.pairplot(df)\n",
        "plt.show()"
      ],
      "metadata": {
        "id": "o58-TEIhveiU"
      },
      "execution_count": null,
      "outputs": []
    },
    {
      "cell_type": "markdown",
      "source": [
        "##### 1. Why did you pick the specific chart?"
      ],
      "metadata": {
        "id": "EXh0U9oCveiU"
      }
    },
    {
      "cell_type": "markdown",
      "source": [
        "***It represent multiple pairwise distibution in a dataset.***\n",
        "\n",
        "***This creates a nice visualization and helps us understand the data by summarising a large amount of data in a single fingure.***"
      ],
      "metadata": {
        "id": "eMmPjTByveiU"
      }
    },
    {
      "cell_type": "markdown",
      "source": [
        "##### 2. What is/are the insight(s) found from the chart?"
      ],
      "metadata": {
        "id": "22aHeOlLveiV"
      }
    },
    {
      "cell_type": "markdown",
      "source": [
        "***There are less linear relationship between variables and data points aren't linearly separable.***\n",
        "\n",
        "***Mobile price range is clusetered. Some of the above features are linearly dependent on price range like ram, internal memory, processors and so on.***"
      ],
      "metadata": {
        "id": "uPQ8RGwHveiV"
      }
    },
    {
      "cell_type": "markdown",
      "source": [
        "## ***5. Hypothesis Testing***"
      ],
      "metadata": {
        "id": "g-ATYxFrGrvw"
      }
    },
    {
      "cell_type": "markdown",
      "source": [
        "### Based on your chart experiments, define three hypothetical statements from the dataset. In the next three questions, perform hypothesis testing to obtain final conclusion about the statements through your code and statistical testing."
      ],
      "metadata": {
        "id": "Yfr_Vlr8HBkt"
      }
    },
    {
      "cell_type": "markdown",
      "source": [
        "***checking int_memory and price_range have any relation between them.***\n",
        "\n"
      ],
      "metadata": {
        "id": "-7MS06SUHkB-"
      }
    },
    {
      "cell_type": "markdown",
      "source": [
        "### Hypothetical Statement - 1"
      ],
      "metadata": {
        "id": "8yEUt7NnHlrM"
      }
    },
    {
      "cell_type": "markdown",
      "source": [
        "#### 1. State Your research hypothesis as a null hypothesis and alternate hypothesis."
      ],
      "metadata": {
        "id": "tEA2Xm5dHt1r"
      }
    },
    {
      "cell_type": "markdown",
      "source": [
        "***To figure-out relation between features and label with \"pvalue <= 0.1\"***"
      ],
      "metadata": {
        "id": "HI9ZP0laH0D-"
      }
    },
    {
      "cell_type": "code",
      "source": [
        "# Perform Statistical Test to obtain P-Value\n",
        "ct = pd.crosstab(df['wifi'],df['price_range'])\n",
        "from scipy.stats import chi2_contingency\n",
        "stat,pvalue,dof,expected_R = chi2_contingency(ct)\n",
        "print(\"pvalue : \",pvalue)\n",
        "\n",
        "if pvalue <= 0.1:\n",
        "    print(\"Alternate Hypothesis passed. int_memory and price_range have Relationship\")\n",
        "else:\n",
        "    print(\"Null hypothesis passed. int_memory and price_range doesnot have  Relationship\")"
      ],
      "metadata": {
        "id": "oZrfquKtyian"
      },
      "execution_count": null,
      "outputs": []
    },
    {
      "cell_type": "markdown",
      "source": [
        "## ***6. Feature Engineering & Data Pre-processing***"
      ],
      "metadata": {
        "id": "yLjJCtPM0KBk"
      }
    },
    {
      "cell_type": "markdown",
      "source": [
        "### 1. Handling Missing Values"
      ],
      "metadata": {
        "id": "xiyOF9F70UgQ"
      }
    },
    {
      "cell_type": "code",
      "source": [
        "# Handling Missing Values & Missing Value Imputation\n",
        "df.isnull().sum()"
      ],
      "metadata": {
        "id": "iRsAHk1K0fpS"
      },
      "execution_count": null,
      "outputs": []
    },
    {
      "cell_type": "markdown",
      "source": [
        "#### What all missing value imputation techniques have you used and why did you use those techniques?"
      ],
      "metadata": {
        "id": "7wuGOrhz0itI"
      }
    },
    {
      "cell_type": "markdown",
      "source": [
        "***Zero missing values.***"
      ],
      "metadata": {
        "id": "1ixusLtI0pqI"
      }
    },
    {
      "cell_type": "markdown",
      "source": [
        "### 2. Handling Outliers"
      ],
      "metadata": {
        "id": "id1riN9m0vUs"
      }
    },
    {
      "cell_type": "code",
      "source": [
        "# Handling Outliers & Outlier treatments\n",
        "Q1 = df.quantile(0.25)\n",
        "Q3 = df.quantile(0.75)\n",
        "IQR = Q3 - Q1\n",
        "\n",
        "((df < (Q1 - 1.5 * IQR)) | (df > (Q3 + 1.5 * IQR))).sum()"
      ],
      "metadata": {
        "id": "M6w2CzZf04JK"
      },
      "execution_count": null,
      "outputs": []
    },
    {
      "cell_type": "code",
      "source": [
        "\n",
        "def outlinefree(dataCol):     \n",
        "# sort column.\n",
        "# getting IQR \n",
        "    sorted(dataCol)                         \n",
        "    Q1,Q3 = np.percentile(dataCol,[25,75])   \n",
        "    IQR = Q3-Q1                              \n",
        "    LowerRange = Q1-(1.5 * IQR)              \n",
        "    UpperRange = Q3+(1.5 * IQR)              \n",
        "    \n",
        "# convert column into list \n",
        "    colname = dataCol.tolist()               \n",
        "    newlist =[]                              \n",
        "    for i in range(len(colname)):\n",
        "        \n",
        "# list number\n",
        "        if colname[i] > UpperRange:         \n",
        "            colname[i] = UpperRange          \n",
        "            newlist.append(colname[i])       \n",
        "        elif colname[i] < LowerRange:        \n",
        "            colname[i] = LowerRange         \n",
        "            newlist.append(colname[i])      \n",
        "        else:\n",
        "            colname[i]                       \n",
        "            newlist.append(colname[i])       \n",
        "            \n",
        "        \n",
        "\n",
        "    return newlist"
      ],
      "metadata": {
        "id": "qo7crji7Ag0q"
      },
      "execution_count": null,
      "outputs": []
    },
    {
      "cell_type": "code",
      "source": [
        "# retrun new list\n",
        "for i in range(len(data_num.columns)):\n",
        "    new_list =  outlinefree(df.loc[:,data_num.columns[i]]) \n",
        "    df.loc[:,data_num.columns[i]] = new_list    "
      ],
      "metadata": {
        "id": "LCovbgMuD9NY"
      },
      "execution_count": null,
      "outputs": []
    },
    {
      "cell_type": "code",
      "source": [
        "data_final_num = df[['battery_power',  'clock_speed' , 'fc','int_memory','m_dep', 'mobile_wt','n_cores', 'pc',\n",
        "                      'px_height','px_width','ram', 'sc_h', 'sc_w', 'talk_time','three_g']]"
      ],
      "metadata": {
        "id": "3oxGhUNvEIWF"
      },
      "execution_count": null,
      "outputs": []
    },
    {
      "cell_type": "code",
      "source": [
        "for i in data_final_num.columns:\n",
        "    sns.boxplot(data_final_num[i],color='#6495ED')\n",
        "    plt.title(i)\n",
        "    plt.show()"
      ],
      "metadata": {
        "id": "ePXfI4HmESAI"
      },
      "execution_count": null,
      "outputs": []
    },
    {
      "cell_type": "markdown",
      "source": [
        "##### What all outlier treatment techniques have you used and why did you use those techniques?"
      ],
      "metadata": {
        "id": "578E2V7j08f6"
      }
    },
    {
      "cell_type": "markdown",
      "source": [
        "***I used box plot to get the maximum and minimum value with well sagreggated outliers with well defined mean and median as shown in the box plot graph.***\n",
        "\n",
        "***The following quantities (called fences) are needed for identifying extreme values in the tails of the distribution:***\n",
        "\n",
        "***lower inner fence: Q1–1.5*IQ***\n",
        "\n",
        "***upper inner fence: Q3 + 1.5*IQ***\n",
        "\n",
        "***lower outer fence: Q1–3*IQ***\n",
        "\n",
        "***upper outer fence: Q3 + 3*IQ***"
      ],
      "metadata": {
        "id": "uGZz5OrT1HH-"
      }
    },
    {
      "cell_type": "markdown",
      "source": [
        "## ***Splitting data***"
      ],
      "metadata": {
        "id": "tXn8CYU3HWdl"
      }
    },
    {
      "cell_type": "code",
      "source": [
        "X = df.drop('price_range',axis=1)"
      ],
      "metadata": {
        "id": "Hwg0Cj8_HPFz"
      },
      "execution_count": null,
      "outputs": []
    },
    {
      "cell_type": "code",
      "source": [
        "#dependent variable\n",
        "y = df['price_range']"
      ],
      "metadata": {
        "id": "IaLA32sjHbi-"
      },
      "execution_count": null,
      "outputs": []
    },
    {
      "cell_type": "code",
      "source": [
        "X_train,X_test,y_train,y_test = train_test_split(X,y,test_size=0.33,random_state=42, stratify=y)"
      ],
      "metadata": {
        "id": "oszmmasjHjoM"
      },
      "execution_count": null,
      "outputs": []
    },
    {
      "cell_type": "code",
      "source": [
        "print(X_train.shape)\n",
        "print(X_test.shape)"
      ],
      "metadata": {
        "id": "q39YiMNmHp2i"
      },
      "execution_count": null,
      "outputs": []
    },
    {
      "cell_type": "markdown",
      "source": [
        "## ***7. ML Model Implementation***"
      ],
      "metadata": {
        "id": "VfCC591jGiD4"
      }
    },
    {
      "cell_type": "markdown",
      "source": [
        "### ML Model - 1"
      ],
      "metadata": {
        "id": "OB4l2ZhMeS1U"
      }
    },
    {
      "cell_type": "markdown",
      "source": [
        "####KNeighbors classifier####"
      ],
      "metadata": {
        "id": "4olS36ySXVhb"
      }
    },
    {
      "cell_type": "code",
      "source": [
        "# ML Model - 1 Implementation\n",
        "# Import KNeighborsClassifier\n",
        "from sklearn.neighbors import KNeighborsClassifier\n",
        "\n",
        "#Setup arrays to store training and test accuracies\n",
        "neighbors = np.arange(1,9)\n",
        "train_accuracy =np.empty(len(neighbors))\n",
        "test_accuracy = np.empty(len(neighbors))\n",
        "\n",
        "for i,k in enumerate(neighbors):\n",
        "    # Setup a knn classifier with k neighbors\n",
        "    knn = KNeighborsClassifier(n_neighbors=k)\n",
        "    \n",
        "    # Fit the model\n",
        "    knn.fit(X_train, y_train)\n",
        "    \n",
        "    # Compute accuracy on the training set\n",
        "    train_accuracy[i] = knn.score(X_train, y_train)\n",
        "    \n",
        "    # Compute accuracy on the test set\n",
        "    test_accuracy[i] = knn.score(X_test, y_test)"
      ],
      "metadata": {
        "id": "7ebyywQieS1U"
      },
      "execution_count": null,
      "outputs": []
    },
    {
      "cell_type": "code",
      "source": [
        "# Generate plot\n",
        "plt.title('k-NN Varying number of neighbors')\n",
        "plt.plot(neighbors, test_accuracy, label='Testing Accuracy')\n",
        "plt.plot(neighbors, train_accuracy, label='Training accuracy')\n",
        "plt.legend()\n",
        "plt.xlabel('Number of neighbors')\n",
        "plt.ylabel('Accuracy')\n",
        "plt.show()"
      ],
      "metadata": {
        "id": "pTOH_GFCIDhL"
      },
      "execution_count": null,
      "outputs": []
    },
    {
      "cell_type": "code",
      "source": [
        "# Setup a knn classifier with k neighbors\n",
        "knn = KNeighborsClassifier(n_neighbors=7)"
      ],
      "metadata": {
        "id": "5IaHWikNIPq9"
      },
      "execution_count": null,
      "outputs": []
    },
    {
      "cell_type": "code",
      "source": [
        "# Fit the model\n",
        "knn.fit(X_train,y_train)"
      ],
      "metadata": {
        "id": "O9CMycFbIUCC"
      },
      "execution_count": null,
      "outputs": []
    },
    {
      "cell_type": "code",
      "source": [
        "#calculating metrics\n",
        "knn_test_score = knn.score(X_test,y_test)\n",
        "knn_test_score"
      ],
      "metadata": {
        "id": "nqcWd0BLIX2h"
      },
      "execution_count": null,
      "outputs": []
    },
    {
      "cell_type": "code",
      "source": [
        "knn_train_score = knn.score(X_train,y_train)\n",
        "knn_train_score"
      ],
      "metadata": {
        "id": "1bM3APpAIch4"
      },
      "execution_count": null,
      "outputs": []
    },
    {
      "cell_type": "code",
      "source": [
        "# Import confusion_matrix\n",
        "\n",
        "from sklearn.metrics import confusion_matrix,roc_auc_score,classification_report,roc_curve\n"
      ],
      "metadata": {
        "id": "rqD5ZohzfxKe"
      },
      "execution_count": null,
      "outputs": []
    },
    {
      "cell_type": "code",
      "source": [
        "# Let us get the predictions using the classifier we had fit above\n",
        "y_train_pred = knn.predict(X_train)\n",
        "y_test_pred = knn.predict(X_test)"
      ],
      "metadata": {
        "id": "pvSqzPVkKcqJ"
      },
      "execution_count": null,
      "outputs": []
    },
    {
      "cell_type": "code",
      "source": [
        "#plotting confusion matrix for train set\n",
        "cm = confusion_matrix(y_train, y_train_pred)\n",
        "\n",
        "df1 = pd.DataFrame(columns=[\"0\",\"1\",\"2\",\"3\"], index= [\"0\",\"1\",\"2\",\"3\"], data= cm )\n",
        "\n",
        "f,ax = plt.subplots(figsize=(6,6))\n",
        "\n",
        "sns.heatmap(df1, annot=True,cmap=\"OrRd\", fmt= '.0f',\n",
        "            ax=ax,linewidths = 5, cbar = False,annot_kws={\"size\": 16})\n",
        "plt.xlabel(\"Predicted Label\")\n",
        "plt.xticks(size = 12)\n",
        "plt.yticks(size = 12, rotation = 0)\n",
        "plt.ylabel(\"True Label\")\n",
        "plt.title(\"Confusion Matrix\", size = 12)\n",
        "plt.show()"
      ],
      "metadata": {
        "id": "BZNRD_u7KeoO"
      },
      "execution_count": null,
      "outputs": []
    },
    {
      "cell_type": "code",
      "source": [
        "#plotting confusion matrix for test set\n",
        "cm = confusion_matrix(y_test, y_test_pred)\n",
        "\n",
        "df1 = pd.DataFrame(columns=[\"0\",\"1\",\"2\",\"3\"], index= [\"0\",\"1\",\"2\",\"3\"], data= cm )\n",
        "\n",
        "f,ax = plt.subplots(figsize=(6,6))\n",
        "\n",
        "sns.heatmap(df1, annot=True,cmap=\"OrRd\", fmt= '.0f',\n",
        "            ax=ax,linewidths = 5, cbar = False,annot_kws={\"size\": 16})\n",
        "plt.xlabel(\"Predicted Label\")\n",
        "plt.xticks(size = 12)\n",
        "plt.yticks(size = 12, rotation = 0)\n",
        "plt.ylabel(\"True Label\")\n",
        "plt.title(\"Confusion Matrix\", size = 12)\n",
        "plt.show()"
      ],
      "metadata": {
        "id": "Zok3BM8XKrYh"
      },
      "execution_count": null,
      "outputs": []
    },
    {
      "cell_type": "code",
      "source": [
        "#predicting \n",
        "y_pred_proba = knn.predict_proba(X_test)"
      ],
      "metadata": {
        "id": "W2CfrFHuK1Fv"
      },
      "execution_count": null,
      "outputs": []
    },
    {
      "cell_type": "code",
      "source": [
        "roc_auc_score(y_test, y_pred_proba, multi_class='ovo', average='weighted')"
      ],
      "metadata": {
        "id": "MbOXta0FK6nB"
      },
      "execution_count": null,
      "outputs": []
    },
    {
      "cell_type": "code",
      "source": [
        "# roc curve for classes\n",
        "fpr = {}\n",
        "tpr = {}\n",
        "thresh ={}\n",
        "\n",
        "n_class = 4\n",
        "\n",
        "for i in range(n_class):    \n",
        "    fpr[i], tpr[i], thresh[i] = roc_curve(y_test, y_pred_proba[:,i], pos_label=i)\n",
        "    \n",
        "# plotting multiclass ROC curve   \n",
        "plt.plot(fpr[0], tpr[0], linestyle='--',color='orange', label='Low_cost')\n",
        "plt.plot(fpr[1], tpr[1], linestyle='--',color='green', label='Medium_cost')\n",
        "plt.plot(fpr[2], tpr[2], linestyle='--',color='blue', label='High_cost')\n",
        "plt.plot(fpr[3], tpr[3], linestyle='--',color='red', label='Very_high_cost')\n",
        "plt.title('Knn Multiclass ROC curve')\n",
        "plt.xlabel('False Positive Rate')\n",
        "plt.ylabel('True Positive rate')\n",
        "plt.legend(loc='best')\n",
        "plt.savefig('Multiclass ROC',dpi=300);"
      ],
      "metadata": {
        "id": "0fOVSmQFLCyN"
      },
      "execution_count": null,
      "outputs": []
    },
    {
      "cell_type": "code",
      "source": [
        "#printing classification report for train data\n",
        "print(classification_report(y_train,y_train_pred))"
      ],
      "metadata": {
        "id": "p4_Rp3tMLH-H"
      },
      "execution_count": null,
      "outputs": []
    },
    {
      "cell_type": "code",
      "source": [
        "#printing classification report for test data\n",
        "print(classification_report(y_test,y_test_pred))"
      ],
      "metadata": {
        "id": "Zl0C5NGtLMrm"
      },
      "execution_count": null,
      "outputs": []
    },
    {
      "cell_type": "code",
      "source": [
        "y_test_pred"
      ],
      "metadata": {
        "id": "WvkB0IhZLSbH"
      },
      "execution_count": null,
      "outputs": []
    },
    {
      "cell_type": "code",
      "source": [
        "y_test"
      ],
      "metadata": {
        "id": "TK2OTbHqLYE_"
      },
      "execution_count": null,
      "outputs": []
    },
    {
      "cell_type": "markdown",
      "source": [
        "### ML Model - 2"
      ],
      "metadata": {
        "id": "dJ2tPlVmpsJ0"
      }
    },
    {
      "cell_type": "markdown",
      "source": [
        "####Random Forest####"
      ],
      "metadata": {
        "id": "TAybmJJ2LylQ"
      }
    },
    {
      "cell_type": "code",
      "source": [
        "from sklearn.ensemble import RandomForestClassifier"
      ],
      "metadata": {
        "id": "eSlHoj6VL-49"
      },
      "execution_count": null,
      "outputs": []
    },
    {
      "cell_type": "code",
      "source": [
        "# Visualizing evaluation Metric Score chart\n",
        "# Number of trees\n",
        "n_estimators = [50,80,100]\n",
        "\n",
        "# Maximum depth of trees\n",
        "max_depth = [4,6,8]\n",
        "\n",
        "# Minimum number of samples required to split a node\n",
        "min_samples_split = [50,100,150]\n",
        "\n",
        "# Minimum number of samples required at each leaf node\n",
        "min_samples_leaf = [40,50]\n",
        "\n",
        "# HYperparameter Grid\n",
        "param_dict = {'n_estimators' : n_estimators,\n",
        "              'max_depth' : max_depth,\n",
        "              'min_samples_split' : min_samples_split,\n",
        "              'min_samples_leaf' : min_samples_leaf}"
      ],
      "metadata": {
        "id": "yEl-hgQWpsJ1"
      },
      "execution_count": null,
      "outputs": []
    },
    {
      "cell_type": "code",
      "source": [
        "param_dict"
      ],
      "metadata": {
        "id": "13yWKNrDMItI"
      },
      "execution_count": null,
      "outputs": []
    },
    {
      "cell_type": "code",
      "source": [
        "# Create an instance of the RandomForestClassifier\n",
        "rf_model = RandomForestClassifier()\n",
        "\n",
        "# Grid search\n",
        "rf_grid = GridSearchCV(estimator=rf_model,\n",
        "                       param_grid = param_dict,\n",
        "                       cv = 5, verbose=2, scoring='accuracy')\n",
        "\n",
        "rf_grid.fit(X_train,y_train)"
      ],
      "metadata": {
        "id": "tiKWn4xoMMNT"
      },
      "execution_count": null,
      "outputs": []
    },
    {
      "cell_type": "code",
      "source": [
        "rf_grid.best_estimator_"
      ],
      "metadata": {
        "id": "lfAeSYNRMVyV"
      },
      "execution_count": null,
      "outputs": []
    },
    {
      "cell_type": "code",
      "source": [
        "rf_optimal_model = rf_grid.best_estimator_"
      ],
      "metadata": {
        "id": "7EdD7NOyMZch"
      },
      "execution_count": null,
      "outputs": []
    },
    {
      "cell_type": "code",
      "source": [
        "#best parameters for the data\n",
        "rf_grid.best_params_"
      ],
      "metadata": {
        "id": "WhzgNG_mMdIF"
      },
      "execution_count": null,
      "outputs": []
    },
    {
      "cell_type": "code",
      "source": [
        "# Making predictions on train and test data\n",
        "\n",
        "train_class_preds = rf_optimal_model.predict(X_train)\n",
        "test_class_preds = rf_optimal_model.predict(X_test)"
      ],
      "metadata": {
        "id": "FHBAHyUpMt_u"
      },
      "execution_count": null,
      "outputs": []
    },
    {
      "cell_type": "code",
      "source": [
        "# Get the probabilities on train and test\n",
        "train_preds = rf_optimal_model.predict_proba(X_train)[:,1]\n",
        "test_preds = rf_optimal_model.predict_proba(X_test)[:,1]"
      ],
      "metadata": {
        "id": "9F0VNqcdMkBz"
      },
      "execution_count": null,
      "outputs": []
    },
    {
      "cell_type": "code",
      "source": [
        "len(train_preds)"
      ],
      "metadata": {
        "id": "ttWYTN2bM1iM"
      },
      "execution_count": null,
      "outputs": []
    },
    {
      "cell_type": "code",
      "source": [
        "train_class_preds"
      ],
      "metadata": {
        "id": "o7cgkPARM4dR"
      },
      "execution_count": null,
      "outputs": []
    },
    {
      "cell_type": "code",
      "source": [
        "test_class_preds"
      ],
      "metadata": {
        "id": "NUdezPjoM7RY"
      },
      "execution_count": null,
      "outputs": []
    },
    {
      "cell_type": "code",
      "source": [
        "from sklearn.metrics import accuracy_score"
      ],
      "metadata": {
        "id": "Dn0EOfS6psJ2"
      },
      "execution_count": null,
      "outputs": []
    },
    {
      "cell_type": "code",
      "source": [
        "#Accuracy on train test\n",
        "# Calculating accuracy on train and test\n",
        "train_accuracy = accuracy_score(y_train,train_class_preds)\n",
        "test_accuracy = accuracy_score(y_test,test_class_preds)\n",
        "\n",
        "print(\"The accuracy on train dataset is\", train_accuracy)\n",
        "print(\"The accuracy on test dataset is\", test_accuracy)"
      ],
      "metadata": {
        "id": "mXr-C4myNctX"
      },
      "execution_count": null,
      "outputs": []
    },
    {
      "cell_type": "code",
      "source": [
        "# Get the confusion matrices for train and test\n",
        "train_cm = confusion_matrix(y_train,train_class_preds)\n",
        "test_cm = confusion_matrix(y_test,test_class_preds )"
      ],
      "metadata": {
        "id": "eJuqxSA-Nj2k"
      },
      "execution_count": null,
      "outputs": []
    },
    {
      "cell_type": "code",
      "source": [
        "train_cm"
      ],
      "metadata": {
        "id": "9w8LNuYRNn4v"
      },
      "execution_count": null,
      "outputs": []
    },
    {
      "cell_type": "code",
      "source": [
        "test_cm"
      ],
      "metadata": {
        "id": "mctV_dnVNr8m"
      },
      "execution_count": null,
      "outputs": []
    },
    {
      "cell_type": "code",
      "source": [
        "cm = confusion_matrix(y_train,train_class_preds)\n",
        "\n",
        "df1 = pd.DataFrame(columns=[\"0\",\"1\",\"2\",\"3\"], index= [\"0\",\"1\",\"2\",\"3\"], data= cm )\n",
        "\n",
        "f,ax = plt.subplots(figsize=(6,6))\n",
        "\n",
        "sns.heatmap(df1, annot=True,cmap=\"OrRd\", fmt= '.0f',\n",
        "            ax=ax,linewidths = 5, cbar = False,annot_kws={\"size\": 16})\n",
        "plt.xlabel(\"Predicted Label\")\n",
        "plt.xticks(size = 12)\n",
        "plt.yticks(size = 12, rotation = 0)\n",
        "plt.ylabel(\"True Label\")\n",
        "plt.title(\"Confusion Matrix\", size = 12)\n",
        "plt.show()"
      ],
      "metadata": {
        "id": "s5BY2yZjNwR3"
      },
      "execution_count": null,
      "outputs": []
    },
    {
      "cell_type": "code",
      "source": [
        "cm = confusion_matrix(y_test, test_class_preds)\n",
        "\n",
        "df1 = pd.DataFrame(columns=[\"0\",\"1\",\"2\",\"3\"], index= [\"0\",\"1\",\"2\",\"3\"], data= cm )\n",
        "\n",
        "f,ax = plt.subplots(figsize=(6,6))\n",
        "\n",
        "sns.heatmap(df1, annot=True,cmap=\"OrRd\", fmt= '.0f',\n",
        "            ax=ax,linewidths = 5, cbar = False,annot_kws={\"size\": 16})\n",
        "plt.xlabel(\"Predicted Label\")\n",
        "plt.xticks(size = 12)\n",
        "plt.yticks(size = 12, rotation = 0)\n",
        "plt.ylabel(\"True Label\")\n",
        "plt.title(\"Confusion Matrix\", size = 12)\n",
        "plt.show()"
      ],
      "metadata": {
        "id": "MSxi-nsqN3Fp"
      },
      "execution_count": null,
      "outputs": []
    },
    {
      "cell_type": "code",
      "source": [
        "print(classification_report(y_train,train_class_preds))"
      ],
      "metadata": {
        "id": "AJb5uIq8N-DM"
      },
      "execution_count": null,
      "outputs": []
    },
    {
      "cell_type": "code",
      "source": [
        "print(classification_report(y_test,test_class_preds))"
      ],
      "metadata": {
        "id": "xiYYuqjpOBlw"
      },
      "execution_count": null,
      "outputs": []
    },
    {
      "cell_type": "markdown",
      "source": [
        "### ML Model - 3"
      ],
      "metadata": {
        "id": "Fze-IPXLpx6K"
      }
    },
    {
      "cell_type": "markdown",
      "source": [
        "####Gradient Boosting Classifier####"
      ],
      "metadata": {
        "id": "w1CuEQvvOMRd"
      }
    },
    {
      "cell_type": "code",
      "source": [
        "from sklearn.ensemble import GradientBoostingClassifier"
      ],
      "metadata": {
        "id": "9dzV_3HfPQzF"
      },
      "execution_count": null,
      "outputs": []
    },
    {
      "cell_type": "code",
      "source": [
        "state = 12  \n",
        "test_size = 0.33\n",
        "X_train, X_val, y_train, y_val = train_test_split(X_train, y_train,  \n",
        "    test_size=test_size, random_state=state)"
      ],
      "metadata": {
        "id": "FFrSXAtrpx6M"
      },
      "execution_count": null,
      "outputs": []
    },
    {
      "cell_type": "code",
      "source": [
        "#Find the best learning rate value \n",
        "lr_list = [0.05, 0.075, 0.1, 0.25, 0.5, 0.75, 1]\n",
        "\n",
        "for learning_rate in lr_list:\n",
        "    gb_clf = GradientBoostingClassifier(n_estimators=20, learning_rate=learning_rate, max_depth=2, random_state=0)\n",
        "    gb_clf.fit(X_train, y_train)\n",
        "\n",
        "    print(\"Learning rate: \", learning_rate)\n",
        "    print(\"Accuracy score (training): {0:.3f}\".format(gb_clf.score(X_train, y_train)))\n",
        "    print(\"Accuracy score (validation): {0:.3f}\".format(gb_clf.score(X_val, y_val)))"
      ],
      "metadata": {
        "id": "w6Gx8xwpO95D"
      },
      "execution_count": null,
      "outputs": []
    },
    {
      "cell_type": "code",
      "source": [
        "gb_clf2 = GradientBoostingClassifier(n_estimators=20, learning_rate=1, max_depth=2, random_state=0)\n",
        "gb_clf2.fit(X_train, y_train)\n",
        "predictions = gb_clf2.predict(X_val)\n",
        "\n",
        "\n",
        "print(\"Confusion Matrix:\")\n",
        "print(confusion_matrix(y_val, predictions))\n",
        "\n",
        "print(\"Classification Report\")\n",
        "print(classification_report(y_val, predictions))"
      ],
      "metadata": {
        "id": "A_4w_UrFPZXq"
      },
      "execution_count": null,
      "outputs": []
    },
    {
      "cell_type": "code",
      "source": [
        "#plotting the confusion matrix for train set\n",
        "cm = confusion_matrix(y_val, predictions)\n",
        "\n",
        "df1 = pd.DataFrame(columns=[\"0\",\"1\",\"2\",\"3\"], index= [\"0\",\"1\",\"2\",\"3\"], data= cm )\n",
        "\n",
        "f,ax = plt.subplots(figsize=(6,6))\n",
        "\n",
        "sns.heatmap(df1, annot=True,cmap=\"OrRd\", fmt= '.0f',\n",
        "            ax=ax,linewidths = 5, cbar = False,annot_kws={\"size\": 16})\n",
        "plt.xlabel(\"Predicted Label\")\n",
        "plt.xticks(size = 12)\n",
        "plt.yticks(size = 12, rotation = 0)\n",
        "plt.ylabel(\"True Label\")\n",
        "plt.title(\"Confusion Matrix\", size = 12)\n",
        "plt.show()"
      ],
      "metadata": {
        "id": "tfFfxxmnPiZL"
      },
      "execution_count": null,
      "outputs": []
    },
    {
      "cell_type": "code",
      "source": [
        "gb_clf2 = GradientBoostingClassifier(n_estimators=20, learning_rate=1, max_depth=2, random_state=0)\n",
        "gb_clf2.fit(X_test, y_test)\n",
        "test_pred = gb_clf2.predict(X_val)\n",
        "\n",
        "\n",
        "print(\"Confusion Matrix:\")\n",
        "print(confusion_matrix(y_val, test_pred))\n",
        "\n",
        "print(\"Classification Report\")\n",
        "print(classification_report(y_val, test_pred))"
      ],
      "metadata": {
        "id": "Xb7FV4PSPtnu"
      },
      "execution_count": null,
      "outputs": []
    },
    {
      "cell_type": "code",
      "source": [
        "#plotting the confusion matrix for test set\n",
        "cm = confusion_matrix(y_val, test_pred)\n",
        "\n",
        "df1 = pd.DataFrame(columns=[\"0\",\"1\",\"2\",\"3\"], index= [\"0\",\"1\",\"2\",\"3\"], data= cm )\n",
        "\n",
        "f,ax = plt.subplots(figsize=(6,6))\n",
        "\n",
        "sns.heatmap(df1, annot=True,cmap=\"OrRd\", fmt= '.0f',\n",
        "            ax=ax,linewidths = 5, cbar = False,annot_kws={\"size\": 16})\n",
        "plt.xlabel(\"Predicted Label\")\n",
        "plt.xticks(size = 12)\n",
        "plt.yticks(size = 12, rotation = 0)\n",
        "plt.ylabel(\"True Label\")\n",
        "plt.title(\"Confusion Matrix\", size = 12)\n",
        "plt.show()"
      ],
      "metadata": {
        "id": "6I4Ds36AP5K8"
      },
      "execution_count": null,
      "outputs": []
    },
    {
      "cell_type": "markdown",
      "source": [
        "### ML Model - 4"
      ],
      "metadata": {
        "id": "T-FQM7hZQVEm"
      }
    },
    {
      "cell_type": "markdown",
      "source": [
        "####XGB Classifier####"
      ],
      "metadata": {
        "id": "A6PEXLcqQXj2"
      }
    },
    {
      "cell_type": "code",
      "source": [
        "from xgboost import XGBClassifier"
      ],
      "metadata": {
        "id": "Xqk0xEHgQoRW"
      },
      "execution_count": null,
      "outputs": []
    },
    {
      "cell_type": "code",
      "source": [
        "xgb_clf = XGBClassifier()\n",
        "xgb_clf.fit(X_train, y_train)"
      ],
      "metadata": {
        "id": "OHVHX0JGQfaz"
      },
      "execution_count": null,
      "outputs": []
    },
    {
      "cell_type": "code",
      "source": [
        "predict = xgb_clf.predict(X_val)"
      ],
      "metadata": {
        "id": "eEGjS-l3Qt00"
      },
      "execution_count": null,
      "outputs": []
    },
    {
      "cell_type": "code",
      "source": [
        "print(\"Confusion Matrix:\")\n",
        "print(confusion_matrix(y_val, predict))\n",
        "\n",
        "print(\"Classification Report\")\n",
        "print(classification_report(y_val, predict))"
      ],
      "metadata": {
        "id": "NR9PjZJ0Q6OE"
      },
      "execution_count": null,
      "outputs": []
    },
    {
      "cell_type": "code",
      "source": [
        "#plotting the confusion matrix for train set\n",
        "cm = confusion_matrix(y_val, predict)\n",
        "\n",
        "df1 = pd.DataFrame(columns=[\"0\",\"1\",\"2\",\"3\"], index= [\"0\",\"1\",\"2\",\"3\"], data= cm )\n",
        "\n",
        "f,ax = plt.subplots(figsize=(6,6))\n",
        "\n",
        "sns.heatmap(df1, annot=True,cmap=\"OrRd\", fmt= '.0f',\n",
        "            ax=ax,linewidths = 5, cbar = False,annot_kws={\"size\": 16})\n",
        "plt.xlabel(\"Predicted Label\")\n",
        "plt.xticks(size = 12)\n",
        "plt.yticks(size = 12, rotation = 0)\n",
        "plt.ylabel(\"True Label\")\n",
        "plt.title(\"Confusion Matrix\", size = 12)\n",
        "plt.show()"
      ],
      "metadata": {
        "id": "zModBcmYQ8Jn"
      },
      "execution_count": null,
      "outputs": []
    },
    {
      "cell_type": "code",
      "source": [
        "xgb_clf = XGBClassifier()\n",
        "xgb_clf.fit(X_test, y_test)"
      ],
      "metadata": {
        "id": "O-89jh4JRPza"
      },
      "execution_count": null,
      "outputs": []
    },
    {
      "cell_type": "code",
      "source": [
        "test_predict = xgb_clf.predict(X_val)"
      ],
      "metadata": {
        "id": "wnrOp87WRS8f"
      },
      "execution_count": null,
      "outputs": []
    },
    {
      "cell_type": "code",
      "source": [
        "print(\"Confusion Matrix:\")\n",
        "print(confusion_matrix(y_val, test_predict))\n",
        "\n",
        "print(\"Classification Report\")\n",
        "print(classification_report(y_val, test_predict))"
      ],
      "metadata": {
        "id": "cmPFX7qmRbJ5"
      },
      "execution_count": null,
      "outputs": []
    },
    {
      "cell_type": "code",
      "source": [
        "#plotting the confusion matrix for test set\n",
        "cm = confusion_matrix(y_val, test_predict)\n",
        "\n",
        "df1 = pd.DataFrame(columns=[\"0\",\"1\",\"2\",\"3\"], index= [\"0\",\"1\",\"2\",\"3\"], data= cm )\n",
        "\n",
        "f,ax = plt.subplots(figsize=(6,6))\n",
        "\n",
        "sns.heatmap(df1, annot=True,cmap=\"OrRd\", fmt= '.0f',\n",
        "            ax=ax,linewidths = 5, cbar = False,annot_kws={\"size\": 16})\n",
        "plt.xlabel(\"Predicted Label\")\n",
        "plt.xticks(size = 12)\n",
        "plt.yticks(size = 12, rotation = 0)\n",
        "plt.ylabel(\"True Label\")\n",
        "plt.title(\"Confusion Matrix\", size = 12)\n",
        "plt.show()"
      ],
      "metadata": {
        "id": "BPg4Jdw5Re6S"
      },
      "execution_count": null,
      "outputs": []
    },
    {
      "cell_type": "markdown",
      "source": [
        "### ML Model - 5"
      ],
      "metadata": {
        "id": "-WDWx6ESSRNk"
      }
    },
    {
      "cell_type": "markdown",
      "source": [
        "#### logistic regression"
      ],
      "metadata": {
        "id": "Uwg4OhfOShr7"
      }
    },
    {
      "cell_type": "code",
      "source": [
        "from sklearn.linear_model import LogisticRegression"
      ],
      "metadata": {
        "id": "cpOH8L1oSxok"
      },
      "execution_count": null,
      "outputs": []
    },
    {
      "cell_type": "code",
      "source": [
        "# Applying logistic regression\n",
        "logistic_model = LogisticRegression(fit_intercept=True, max_iter=10000)\n",
        "logistic_model.fit(X_train, y_train)"
      ],
      "metadata": {
        "id": "q5EKVLvTSpBT"
      },
      "execution_count": null,
      "outputs": []
    },
    {
      "cell_type": "code",
      "source": [
        "# Checking the coefficients\n",
        "logistic_model.coef_"
      ],
      "metadata": {
        "id": "zqGJESneTltp"
      },
      "execution_count": null,
      "outputs": []
    },
    {
      "cell_type": "code",
      "source": [
        "# Checking the intercept value\n",
        "logistic_model.intercept_"
      ],
      "metadata": {
        "id": "f1TSYsqFT2vy"
      },
      "execution_count": null,
      "outputs": []
    },
    {
      "cell_type": "code",
      "source": [
        "# Get the predicted probabilities\n",
        "train_preds_proba = logistic_model.predict_proba(X_train)\n",
        "test_preds_proba = logistic_model.predict_proba(X_test)"
      ],
      "metadata": {
        "id": "NjtFyiXQT7MI"
      },
      "execution_count": null,
      "outputs": []
    },
    {
      "cell_type": "code",
      "source": [
        "# Get the predicted classes\n",
        "train_class_pred = logistic_model.predict(X_train)\n",
        "test_class_pred = logistic_model.predict(X_test)"
      ],
      "metadata": {
        "id": "YpkwX_ISUw_r"
      },
      "execution_count": null,
      "outputs": []
    },
    {
      "cell_type": "code",
      "source": [
        "# Get the accuracy scores\n",
        "train_accuracy = accuracy_score(train_class_pred,y_train)\n",
        "test_accuracy = accuracy_score(test_class_pred,y_test)\n",
        "\n",
        "print(\"The accuracy on train data is \", train_accuracy)\n",
        "print(\"The accuracy on test data is \", test_accuracy)"
      ],
      "metadata": {
        "id": "AKu4Az-rU8Mo"
      },
      "execution_count": null,
      "outputs": []
    },
    {
      "cell_type": "code",
      "source": [
        "# Get the confusion matrix for both train and test\n",
        "\n",
        "labels = ['0', '1' , '2', '3']\n",
        "cm = confusion_matrix(y_train, train_class_pred)\n",
        "\n",
        "df1 = pd.DataFrame(columns=[\"0\",\"1\",\"2\",\"3\"], index= [\"0\",\"1\",\"2\",\"3\"], data= cm )\n",
        "\n",
        "f,ax = plt.subplots(figsize=(6,6))\n",
        "\n",
        "sns.heatmap(df1, annot=True,cmap=\"OrRd\", fmt= '.0f',\n",
        "            ax=ax,linewidths = 5, cbar = False,annot_kws={\"size\": 16})\n",
        "plt.xlabel(\"Predicted Label\")\n",
        "plt.xticks(size = 12)\n",
        "plt.yticks(size = 12, rotation = 0)\n",
        "plt.ylabel(\"True Label\")\n",
        "plt.title(\"Confusion Matrix\", size = 12)\n",
        "plt.show()"
      ],
      "metadata": {
        "id": "UBkTeAx9VAvR"
      },
      "execution_count": null,
      "outputs": []
    },
    {
      "cell_type": "code",
      "source": [
        "cm = confusion_matrix(y_test, test_class_pred)\n",
        "\n",
        "df1 = pd.DataFrame(columns=[\"0\",\"1\",\"2\",\"3\"], index= [\"0\",\"1\",\"2\",\"3\"], data= cm )\n",
        "\n",
        "f,ax = plt.subplots(figsize=(6,6))\n",
        "\n",
        "sns.heatmap(df1, annot=True,cmap=\"OrRd\", fmt= '.0f',\n",
        "            ax=ax,linewidths = 5, cbar = False,annot_kws={\"size\": 16})\n",
        "plt.xlabel(\"Predicted Label\")\n",
        "plt.xticks(size = 12)\n",
        "plt.yticks(size = 12, rotation = 0)\n",
        "plt.ylabel(\"True Label\")\n",
        "plt.title(\"Confusion Matrix\", size = 12)\n",
        "plt.show()"
      ],
      "metadata": {
        "id": "7Nsri7LsVSdQ"
      },
      "execution_count": null,
      "outputs": []
    },
    {
      "cell_type": "code",
      "source": [
        "y_pred_proba = logistic_model.predict_proba(X_test)"
      ],
      "metadata": {
        "id": "xPb5ld3OVX9L"
      },
      "execution_count": null,
      "outputs": []
    },
    {
      "cell_type": "code",
      "source": [
        "roc_auc_score(y_test, y_pred_proba, multi_class='ovo', average='weighted')"
      ],
      "metadata": {
        "id": "2ECG9iKZVZQK"
      },
      "execution_count": null,
      "outputs": []
    },
    {
      "cell_type": "code",
      "source": [
        "# roc curve for classes\n",
        "fpr = {}\n",
        "tpr = {}\n",
        "thresh ={}\n",
        "\n",
        "n_class = 4\n",
        "\n",
        "for i in range(n_class):    \n",
        "    fpr[i], tpr[i], thresh[i] = roc_curve(y_test, test_preds_proba[:,i], pos_label=i)\n",
        "    \n",
        "# plotting multiclass ROC curve   \n",
        "plt.plot(fpr[0], tpr[0], linestyle='--',color='orange', label='Low_cost')\n",
        "plt.plot(fpr[1], tpr[1], linestyle='--',color='green', label='Medium_cost')\n",
        "plt.plot(fpr[2], tpr[2], linestyle='--',color='blue', label='High_cost')\n",
        "plt.plot(fpr[3], tpr[3], linestyle='--',color='red', label='Very_high_cost')\n",
        "plt.title(' Multiclass ROC curve')\n",
        "plt.xlabel('False Positive Rate')\n",
        "plt.ylabel('True Positive rate')\n",
        "plt.legend(loc='best')\n",
        "plt.savefig('Multiclass ROC',dpi=300);"
      ],
      "metadata": {
        "id": "yvE_NF_pVcpJ"
      },
      "execution_count": null,
      "outputs": []
    },
    {
      "cell_type": "code",
      "source": [
        "print(classification_report(y_train,train_class_pred))\n",
        "\n",
        "print(classification_report(y_test,test_class_pred))"
      ],
      "metadata": {
        "id": "ANZOms99Vleh"
      },
      "execution_count": null,
      "outputs": []
    },
    {
      "cell_type": "markdown",
      "source": [
        "# **Conclusion**"
      ],
      "metadata": {
        "id": "gCX9965dhzqZ"
      }
    },
    {
      "cell_type": "markdown",
      "source": [
        "***1.In EDA we saw there mobiles phones in various price range.***\n",
        "\n",
        "***2.some mobile supported dual sim some are not supported.***\n",
        "\n",
        "***3.some support 3g and some support 4g.***\n",
        "\n",
        "***4.Kneighbors and Xgboost are given best accuracy score 95% test ,93% train and 91% train , 88% test respectively , roc_auc score for kneighbors is 99%.***\n",
        "\n",
        "***5.Logistic regression is giving the less results among all the algorithms.***\n",
        "\n",
        "***6.Ram , Battery_power features were found to be the most relevant features.***\n",
        "\n",
        "***7.predicting price range of mobiles and dropping negative correlation features which are clock speed , mobile_wt , touch_screen.***\n",
        "\n",
        "***8.So we conclude that kneighbors classifier is giving the best results for these dataset.***\n",
        "\n",
        "\n",
        "\n",
        "***"
      ],
      "metadata": {
        "id": "Fjb1IsQkh3yE"
      }
    },
    {
      "cell_type": "markdown",
      "source": [
        "### ***Hurrah! You have successfully completed your Machine Learning Capstone Project !!!***"
      ],
      "metadata": {
        "id": "gIfDvo9L0UH2"
      }
    }
  ]
}